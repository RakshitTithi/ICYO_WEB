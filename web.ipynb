{
 "cells": [
  {
   "cell_type": "code",
   "execution_count": 3,
   "id": "faedde75",
   "metadata": {},
   "outputs": [],
   "source": [
    "import streamlit as st\n",
    "import numpy as np\n",
    "import pandas as pd"
   ]
  },
  {
   "cell_type": "code",
   "execution_count": 2,
   "id": "e7d81af1",
   "metadata": {},
   "outputs": [
    {
     "name": "stdout",
     "output_type": "stream",
     "text": [
      "Collecting streamlit\n",
      "  Downloading streamlit-1.15.1-py2.py3-none-any.whl (10.3 MB)\n",
      "\u001b[2K     \u001b[90m━━━━━━━━━━━━━━━━━━━━━━━━━━━━━━━━━━━━━━━━\u001b[0m \u001b[32m10.3/10.3 MB\u001b[0m \u001b[31m13.3 MB/s\u001b[0m eta \u001b[36m0:00:00\u001b[0m00:01\u001b[0m0:01\u001b[0m\n",
      "\u001b[?25hCollecting pydeck>=0.1.dev5\n",
      "  Downloading pydeck-0.8.0-py2.py3-none-any.whl (4.7 MB)\n",
      "\u001b[2K     \u001b[90m━━━━━━━━━━━━━━━━━━━━━━━━━━━━━━━━━━━━━━━━\u001b[0m \u001b[32m4.7/4.7 MB\u001b[0m \u001b[31m20.3 MB/s\u001b[0m eta \u001b[36m0:00:00\u001b[0m00:01\u001b[0m00:01\u001b[0m\n",
      "\u001b[?25hCollecting cachetools>=4.0\n",
      "  Using cached cachetools-5.2.0-py3-none-any.whl (9.3 kB)\n",
      "Collecting typing-extensions>=3.10.0.0\n",
      "  Using cached typing_extensions-4.4.0-py3-none-any.whl (26 kB)\n",
      "Collecting tzlocal>=1.1\n",
      "  Using cached tzlocal-4.2-py3-none-any.whl (19 kB)\n",
      "Requirement already satisfied: python-dateutil in /Users/seungmipark/.pyenv/versions/3.8.13/envs/ICYO/lib/python3.8/site-packages (from streamlit) (2.8.2)\n",
      "Collecting pympler>=0.9\n",
      "  Using cached Pympler-1.0.1-py3-none-any.whl (164 kB)\n",
      "Requirement already satisfied: tornado>=5.0 in /Users/seungmipark/.pyenv/versions/3.8.13/envs/ICYO/lib/python3.8/site-packages (from streamlit) (6.2)\n",
      "Requirement already satisfied: numpy in /Users/seungmipark/.pyenv/versions/3.8.13/envs/ICYO/lib/python3.8/site-packages (from streamlit) (1.23.5)\n",
      "Collecting requests>=2.4\n",
      "  Using cached requests-2.28.1-py3-none-any.whl (62 kB)\n",
      "Collecting protobuf<4,>=3.12\n",
      "  Downloading protobuf-3.20.3-py2.py3-none-any.whl (162 kB)\n",
      "\u001b[2K     \u001b[90m━━━━━━━━━━━━━━━━━━━━━━━━━━━━━━━━━━━━━━━\u001b[0m \u001b[32m162.1/162.1 kB\u001b[0m \u001b[31m6.2 MB/s\u001b[0m eta \u001b[36m0:00:00\u001b[0m\n",
      "\u001b[?25hCollecting semver\n",
      "  Using cached semver-2.13.0-py2.py3-none-any.whl (12 kB)\n",
      "Collecting validators>=0.2\n",
      "  Using cached validators-0.20.0.tar.gz (30 kB)\n",
      "  Preparing metadata (setup.py) ... \u001b[?25ldone\n",
      "\u001b[?25hCollecting blinker>=1.0.0\n",
      "  Downloading blinker-1.5-py2.py3-none-any.whl (12 kB)\n",
      "Collecting pyarrow>=4.0\n",
      "  Downloading pyarrow-10.0.1-cp38-cp38-macosx_11_0_arm64.whl (23.0 MB)\n",
      "\u001b[2K     \u001b[90m━━━━━━━━━━━━━━━━━━━━━━━━━━━━━━━━━━━━━━━━\u001b[0m \u001b[32m23.0/23.0 MB\u001b[0m \u001b[31m16.6 MB/s\u001b[0m eta \u001b[36m0:00:00\u001b[0m00:01\u001b[0m00:01\u001b[0m\n",
      "\u001b[?25hRequirement already satisfied: packaging>=14.1 in /Users/seungmipark/.pyenv/versions/3.8.13/envs/ICYO/lib/python3.8/site-packages (from streamlit) (21.3)\n",
      "Collecting toml\n",
      "  Using cached toml-0.10.2-py2.py3-none-any.whl (16 kB)\n",
      "Collecting click>=7.0\n",
      "  Using cached click-8.1.3-py3-none-any.whl (96 kB)\n",
      "Requirement already satisfied: pillow>=6.2.0 in /Users/seungmipark/.pyenv/versions/3.8.13/envs/ICYO/lib/python3.8/site-packages (from streamlit) (9.3.0)\n",
      "Collecting gitpython!=3.1.19\n",
      "  Using cached GitPython-3.1.29-py3-none-any.whl (182 kB)\n",
      "Collecting pandas>=0.21.0\n",
      "  Downloading pandas-1.5.2-cp38-cp38-macosx_11_0_arm64.whl (10.7 MB)\n",
      "\u001b[2K     \u001b[90m━━━━━━━━━━━━━━━━━━━━━━━━━━━━━━━━━━━━━━━━\u001b[0m \u001b[32m10.7/10.7 MB\u001b[0m \u001b[31m18.1 MB/s\u001b[0m eta \u001b[36m0:00:00\u001b[0m00:01\u001b[0m0:01\u001b[0m\n",
      "\u001b[?25hCollecting rich>=10.11.0\n",
      "  Downloading rich-12.6.0-py3-none-any.whl (237 kB)\n",
      "\u001b[2K     \u001b[90m━━━━━━━━━━━━━━━━━━━━━━━━━━━━━━━━━━━━━━━\u001b[0m \u001b[32m237.5/237.5 kB\u001b[0m \u001b[31m8.8 MB/s\u001b[0m eta \u001b[36m0:00:00\u001b[0m\n",
      "\u001b[?25hRequirement already satisfied: importlib-metadata>=1.4 in /Users/seungmipark/.pyenv/versions/3.8.13/envs/ICYO/lib/python3.8/site-packages (from streamlit) (5.0.0)\n",
      "Collecting altair>=3.2.0\n",
      "  Using cached altair-4.2.0-py3-none-any.whl (812 kB)\n",
      "Requirement already satisfied: jinja2 in /Users/seungmipark/.pyenv/versions/3.8.13/envs/ICYO/lib/python3.8/site-packages (from altair>=3.2.0->streamlit) (3.1.2)\n",
      "Collecting toolz\n",
      "  Using cached toolz-0.12.0-py3-none-any.whl (55 kB)\n",
      "Requirement already satisfied: entrypoints in /Users/seungmipark/.pyenv/versions/3.8.13/envs/ICYO/lib/python3.8/site-packages (from altair>=3.2.0->streamlit) (0.4)\n",
      "Requirement already satisfied: jsonschema>=3.0 in /Users/seungmipark/.pyenv/versions/3.8.13/envs/ICYO/lib/python3.8/site-packages (from altair>=3.2.0->streamlit) (4.17.0)\n",
      "Collecting gitdb<5,>=4.0.1\n",
      "  Downloading gitdb-4.0.10-py3-none-any.whl (62 kB)\n",
      "\u001b[2K     \u001b[90m━━━━━━━━━━━━━━━━━━━━━━━━━━━━━━━━━━━━━━━━\u001b[0m \u001b[32m62.7/62.7 kB\u001b[0m \u001b[31m2.4 MB/s\u001b[0m eta \u001b[36m0:00:00\u001b[0m\n",
      "\u001b[?25hRequirement already satisfied: zipp>=0.5 in /Users/seungmipark/.pyenv/versions/3.8.13/envs/ICYO/lib/python3.8/site-packages (from importlib-metadata>=1.4->streamlit) (3.10.0)\n",
      "Requirement already satisfied: pyparsing!=3.0.5,>=2.0.2 in /Users/seungmipark/.pyenv/versions/3.8.13/envs/ICYO/lib/python3.8/site-packages (from packaging>=14.1->streamlit) (3.0.9)\n",
      "Collecting pytz>=2020.1\n",
      "  Downloading pytz-2022.6-py2.py3-none-any.whl (498 kB)\n",
      "\u001b[2K     \u001b[90m━━━━━━━━━━━━━━━━━━━━━━━━━━━━━━━━━━━━━━\u001b[0m \u001b[32m498.1/498.1 kB\u001b[0m \u001b[31m13.0 MB/s\u001b[0m eta \u001b[36m0:00:00\u001b[0m\n",
      "\u001b[?25hRequirement already satisfied: six>=1.5 in /Users/seungmipark/.pyenv/versions/3.8.13/envs/ICYO/lib/python3.8/site-packages (from python-dateutil->streamlit) (1.16.0)\n",
      "Collecting urllib3<1.27,>=1.21.1\n",
      "  Downloading urllib3-1.26.13-py2.py3-none-any.whl (140 kB)\n",
      "\u001b[2K     \u001b[90m━━━━━━━━━━━━━━━━━━━━━━━━━━━━━━━━━━━━━━━\u001b[0m \u001b[32m140.6/140.6 kB\u001b[0m \u001b[31m5.1 MB/s\u001b[0m eta \u001b[36m0:00:00\u001b[0m\n",
      "\u001b[?25hCollecting charset-normalizer<3,>=2\n",
      "  Using cached charset_normalizer-2.1.1-py3-none-any.whl (39 kB)\n",
      "Requirement already satisfied: idna<4,>=2.5 in /Users/seungmipark/.pyenv/versions/3.8.13/envs/ICYO/lib/python3.8/site-packages (from requests>=2.4->streamlit) (3.4)\n",
      "Collecting certifi>=2017.4.17\n",
      "  Using cached certifi-2022.9.24-py3-none-any.whl (161 kB)\n",
      "Collecting commonmark<0.10.0,>=0.9.0\n",
      "  Using cached commonmark-0.9.1-py2.py3-none-any.whl (51 kB)\n",
      "Requirement already satisfied: pygments<3.0.0,>=2.6.0 in /Users/seungmipark/.pyenv/versions/3.8.13/envs/ICYO/lib/python3.8/site-packages (from rich>=10.11.0->streamlit) (2.13.0)\n",
      "Collecting pytz-deprecation-shim\n",
      "  Using cached pytz_deprecation_shim-0.1.0.post0-py2.py3-none-any.whl (15 kB)\n",
      "Collecting backports.zoneinfo\n",
      "  Using cached backports.zoneinfo-0.2.1.tar.gz (74 kB)\n",
      "  Installing build dependencies ... \u001b[?25ldone\n",
      "\u001b[?25h  Getting requirements to build wheel ... \u001b[?25ldone\n",
      "\u001b[?25h  Preparing metadata (pyproject.toml) ... \u001b[?25ldone\n",
      "\u001b[?25hRequirement already satisfied: decorator>=3.4.0 in /Users/seungmipark/.pyenv/versions/3.8.13/envs/ICYO/lib/python3.8/site-packages (from validators>=0.2->streamlit) (5.1.1)\n",
      "Collecting smmap<6,>=3.0.1\n",
      "  Using cached smmap-5.0.0-py3-none-any.whl (24 kB)\n",
      "Requirement already satisfied: MarkupSafe>=2.0 in /Users/seungmipark/.pyenv/versions/3.8.13/envs/ICYO/lib/python3.8/site-packages (from jinja2->altair>=3.2.0->streamlit) (2.1.1)\n",
      "Requirement already satisfied: attrs>=17.4.0 in /Users/seungmipark/.pyenv/versions/3.8.13/envs/ICYO/lib/python3.8/site-packages (from jsonschema>=3.0->altair>=3.2.0->streamlit) (22.1.0)\n",
      "Requirement already satisfied: importlib-resources>=1.4.0 in /Users/seungmipark/.pyenv/versions/3.8.13/envs/ICYO/lib/python3.8/site-packages (from jsonschema>=3.0->altair>=3.2.0->streamlit) (5.10.0)\n",
      "Requirement already satisfied: pkgutil-resolve-name>=1.3.10 in /Users/seungmipark/.pyenv/versions/3.8.13/envs/ICYO/lib/python3.8/site-packages (from jsonschema>=3.0->altair>=3.2.0->streamlit) (1.3.10)\n",
      "Requirement already satisfied: pyrsistent!=0.17.0,!=0.17.1,!=0.17.2,>=0.14.0 in /Users/seungmipark/.pyenv/versions/3.8.13/envs/ICYO/lib/python3.8/site-packages (from jsonschema>=3.0->altair>=3.2.0->streamlit) (0.19.2)\n",
      "Collecting tzdata\n",
      "  Downloading tzdata-2022.6-py2.py3-none-any.whl (338 kB)\n",
      "\u001b[2K     \u001b[90m━━━━━━━━━━━━━━━━━━━━━━━━━━━━━━━━━━━━━━━\u001b[0m \u001b[32m338.8/338.8 kB\u001b[0m \u001b[31m9.4 MB/s\u001b[0m eta \u001b[36m0:00:00\u001b[0m\n",
      "\u001b[?25hBuilding wheels for collected packages: backports.zoneinfo\n",
      "  Building wheel for backports.zoneinfo (pyproject.toml) ... \u001b[?25ldone\n",
      "\u001b[?25h  Created wheel for backports.zoneinfo: filename=backports.zoneinfo-0.2.1-cp38-cp38-macosx_12_0_arm64.whl size=35412 sha256=6cf14bbcc2bf9ead7ffdeb78a9d3cd5602e00d0842cdbe3bd908a5758a5b4218\n",
      "  Stored in directory: /Users/seungmipark/Library/Caches/pip/wheels/1d/db/bf/26ac4e5d88a7d8d844fd7d953de2cd13621e2e66e83e29e670\n",
      "Successfully built backports.zoneinfo\n",
      "Installing collected packages: pytz, commonmark, validators, urllib3, tzdata, typing-extensions, toolz, toml, smmap, semver, pympler, pyarrow, protobuf, click, charset-normalizer, certifi, cachetools, blinker, backports.zoneinfo, rich, requests, pytz-deprecation-shim, pydeck, pandas, gitdb, tzlocal, gitpython, altair, streamlit\n"
     ]
    },
    {
     "name": "stdout",
     "output_type": "stream",
     "text": [
      "\u001b[33m  DEPRECATION: validators is being installed using the legacy 'setup.py install' method, because it does not have a 'pyproject.toml' and the 'wheel' package is not installed. pip 23.1 will enforce this behaviour change. A possible replacement is to enable the '--use-pep517' option. Discussion can be found at https://github.com/pypa/pip/issues/8559\u001b[0m\u001b[33m\n",
      "\u001b[0m  Running setup.py install for validators ... \u001b[?25ldone\n",
      "\u001b[?25hSuccessfully installed altair-4.2.0 backports.zoneinfo-0.2.1 blinker-1.5 cachetools-5.2.0 certifi-2022.9.24 charset-normalizer-2.1.1 click-8.1.3 commonmark-0.9.1 gitdb-4.0.10 gitpython-3.1.29 pandas-1.5.2 protobuf-3.20.3 pyarrow-10.0.1 pydeck-0.8.0 pympler-1.0.1 pytz-2022.6 pytz-deprecation-shim-0.1.0.post0 requests-2.28.1 rich-12.6.0 semver-2.13.0 smmap-5.0.0 streamlit-1.15.1 toml-0.10.2 toolz-0.12.0 typing-extensions-4.4.0 tzdata-2022.6 tzlocal-4.2 urllib3-1.26.13 validators-0.20.0\n"
     ]
    }
   ],
   "source": [
    "!pip install streamlit"
   ]
  },
  {
   "cell_type": "code",
   "execution_count": 4,
   "id": "034b510a",
   "metadata": {},
   "outputs": [
    {
     "name": "stderr",
     "output_type": "stream",
     "text": [
      "2022-11-29 20:30:29.185 \n",
      "  \u001b[33m\u001b[1mWarning:\u001b[0m to view this Streamlit app on a browser, run it with the following\n",
      "  command:\n",
      "\n",
      "    streamlit run /Users/seungmipark/.pyenv/versions/3.8.13/envs/ICYO/lib/python3.8/site-packages/ipykernel_launcher.py [ARGUMENTS]\n"
     ]
    },
    {
     "data": {
      "text/plain": [
       "DeltaGenerator(_root_container=0, _provided_cursor=None, _parent=None, _block_type=None, _form_data=None)"
      ]
     },
     "execution_count": 4,
     "metadata": {},
     "output_type": "execute_result"
    }
   ],
   "source": [
    "#Website / project title\n",
    "\n",
    "st.set_page_config(\n",
    "            page_title=\"Crowd Counting\", # => Quick reference - Streamlit\n",
    "            page_icon=\"🐍\",\n",
    "            layout=\"centered\", # wide\n",
    "            initial_sidebar_state=\"auto\") # collapsed\n"
   ]
  },
  {
   "cell_type": "code",
   "execution_count": 7,
   "id": "c7344b84",
   "metadata": {},
   "outputs": [],
   "source": [
    "#User input: Setting a threshold & actual count \n",
    "\n",
    "threshold = st.slider('Choose the number', 1, 1000)\n",
    "count = None\n",
    "diff_ = abs(count - threshold)"
   ]
  },
  {
   "cell_type": "code",
   "execution_count": null,
   "id": "243404aa",
   "metadata": {},
   "outputs": [],
   "source": [
    "#Alert if the count breaches the threshold\n",
    "\n",
    "if threshold >= count:\n",
    "    st.success('All good, nice and roomy')\n",
    "st.warning(f'Watch out, getting too crowded!')    \n"
   ]
  },
  {
   "cell_type": "code",
   "execution_count": 6,
   "id": "2356b4e8",
   "metadata": {},
   "outputs": [],
   "source": [
    "#Progress bar while loading the image\n",
    "if st.checkbox('Show me the image'):\n",
    "    import time\n",
    "\n",
    "    'Loading the image...'\n",
    "\n",
    "    # Add a placeholder\n",
    "    latest_iteration = st.empty()\n",
    "    bar = st.progress(0)\n",
    "\n",
    "    for i in range(100):\n",
    "        # Update the progress bar with each iteration.\n",
    "        latest_iteration.text(f'Iteration {i+1}')\n",
    "        bar.progress(i + 1)\n",
    "        time.sleep(0.1)\n",
    "\n",
    "    '...image loaded'"
   ]
  }
 ],
 "metadata": {
  "kernelspec": {
   "display_name": "Python 3 (ipykernel)",
   "language": "python",
   "name": "python3"
  },
  "language_info": {
   "codemirror_mode": {
    "name": "ipython",
    "version": 3
   },
   "file_extension": ".py",
   "mimetype": "text/x-python",
   "name": "python",
   "nbconvert_exporter": "python",
   "pygments_lexer": "ipython3",
   "version": "3.8.13"
  },
  "toc": {
   "base_numbering": 1,
   "nav_menu": {},
   "number_sections": true,
   "sideBar": true,
   "skip_h1_title": false,
   "title_cell": "Table of Contents",
   "title_sidebar": "Contents",
   "toc_cell": false,
   "toc_position": {},
   "toc_section_display": true,
   "toc_window_display": false
  }
 },
 "nbformat": 4,
 "nbformat_minor": 5
}
